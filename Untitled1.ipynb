{
 "cells": [
  {
   "cell_type": "code",
   "execution_count": 18,
   "metadata": {},
   "outputs": [],
   "source": [
    "import numpy as np\n",
    "\n",
    "import matplotlib.pyplot as plt\n",
    "from matplotlib import style\n",
    "style.use('ggplot')\n"
   ]
  },
  {
   "cell_type": "code",
   "execution_count": 36,
   "metadata": {},
   "outputs": [
    {
     "data": {
      "image/png": "[encoded data removed]",
      "text/plain": [
       "<Figure size 432x288 with 1 Axes>"
      ]
     },
     "metadata": {},
     "output_type": "display_data"
    }
   ],
   "source": [
    "class K_Means(object):\n",
    "    def __init__(self,k=2,tol=0.001,max_iter=300):   #tol=tolerance and max_iter is maximum iteration for optimization\n",
    "        self.k=k\n",
    "        self.tol=tol\n",
    "        self.max_iter=max_iter\n",
    "        \n",
    "    def fit(self,data):\n",
    "        self.centroids={}\n",
    "        \n",
    "        for i in range(self.k):\n",
    "            self.centroids[i]=data[i]\n",
    "            \n",
    "            \n",
    "        for i in range(self.max_iter):\n",
    "            self.classifications={}\n",
    "            \n",
    "            for j in range(self.k):\n",
    "                self.classifications[j]=[]\n",
    "            \n",
    "            for featureset in data:\n",
    "                distances=[np.linalg.norm(featureset-self.centroids[centroid]) for centroid in self.centroids]\n",
    "                classification=distances.index(min(distances))\n",
    "                self.classifications[classification].append(featureset)\n",
    "            \n",
    "            pre_centroids=dict(self.centroids)\n",
    "            \n",
    "            for classification in self.classifications:\n",
    "                \n",
    "                self.centroids[classification]=np.average(self.classifications[classification],axis=0)\n",
    "            \n",
    "            optimized=True\n",
    "            \n",
    "            for c in self.centroids:\n",
    "                original_centroid=pre_centroids[c]\n",
    "                current_centroid=self.centroids[c]\n",
    "                if(np.sum(current_centroid-original_centroid)/original_centroid*100.0).all()>self.tol:\n",
    "                    optimized=False\n",
    "            if optimized:\n",
    "                break\n",
    "        \n",
    "        \n",
    "    def predict(self,data):\n",
    "            distances=[np.linalg.norm(data-self.centroids[centroid]) for centroid in self.centroids]\n",
    "            classification=distances.index(min(distances))\n",
    "            return classification\n",
    "        \n",
    "X=np.array([[1,2],[1.5,1.8],\n",
    "           [5,8],[8,8],[1,0.6],[9,11],[1,3],[8,9],[0,3],[5,4],[6,4],])\n",
    "colors = 10*[\"g\",\"r\",\"c\",\"b\",\"k\"]\n",
    "\n",
    "clf = K_Means()\n",
    "#print(clf.tol)\n",
    "clf.fit(X)\n",
    "\n",
    "for centroid in clf.centroids:\n",
    "    plt.scatter(clf.centroids[centroid][0], clf.centroids[centroid][1],\n",
    "                marker=\"o\", color=\"k\", s=150, linewidths=5)\n",
    "\n",
    "for classification in clf.classifications:\n",
    "    color = colors[classification]\n",
    "    for featureset in clf.classifications[classification]:\n",
    "        plt.scatter(featureset[0], featureset[1], marker=\"x\", color=color, s=150, linewidths=5)"
   ]
  },
  {
   "cell_type": "code",
   "execution_count": 37,
   "metadata": {},
   "outputs": [],
   "source": [
    "unknowns = np.array([[1,3],\n",
    "                    [8,9],\n",
    "                     [0,3],\n",
    "                     [5,4],\n",
    "                     [6,4],])\n"
   ]
  },
  {
   "cell_type": "code",
   "execution_count": 38,
   "metadata": {},
   "outputs": [
    {
     "data": {
      "image/png": "[encoded data removed]",
      "text/plain": [
       "<Figure size 432x288 with 1 Axes>"
      ]
     },
     "metadata": {},
     "output_type": "display_data"
    }
   ],
   "source": [
    "for unknown in unknowns:\n",
    "    classification = clf.predict(unknown)\n",
    "    plt.scatter(unknown[0], unknown[1], marker=\"*\", color=colors[classification], s=150, linewidths=5)\n",
    "\n",
    "\n",
    "plt.show()"
   ]
  },
  {
   "cell_type": "code",
   "execution_count": null,
   "metadata": {},
   "outputs": [],
   "source": []
  }
 ],
 "metadata": {
  "kernelspec": {
   "display_name": "Python 3",
   "language": "python",
   "name": "python3"
  },
  "language_info": {
   "codemirror_mode": {
    "name": "ipython",
    "version": 3
   },
   "file_extension": ".py",
   "mimetype": "text/x-python",
   "name": "python",
   "nbconvert_exporter": "python",
   "pygments_lexer": "ipython3",
   "version": "3.6.5"
  }
 },
 "nbformat": 4,
 "nbformat_minor": 2
}
